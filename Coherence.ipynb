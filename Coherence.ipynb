import spacy

def calculate_coherence(question, text):
    nlp = spacy.load("en_core_web_sm")
    question_tokens = nlp(question)
    text_tokens = nlp(text)
    
    # Calculate coherence between question and text
    coherence_score = question_tokens.similarity(text_tokens)
    return coherence_score

def calculate_answer_coherence(question, answers):
    nlp = spacy.load("en_core_web_sm")
    question_tokens = nlp(question)
    answer_scores = []
    
    for answer in answers:
        answer_tokens = nlp(answer)
        # Calculate coherence between question and each answer
        coherence_score = question_tokens.similarity(answer_tokens)
        answer_scores.append(coherence_score)
    
    return answer_scores

def main():
    # Read text file
    with open("text.txt", "r") as file:
        text = file.read()

    # Read quiz file
    with open("quiz.txt", "r") as file:
        quiz_questions = file.readlines()
    
    for question in quiz_questions:
        question = question.strip()
        answers = ["Answer 1", "Answer 2", "Answer 3", "Answer 4"]  # Example answers
        
        # Calculate coherence between question and text
        coherence_score = calculate_coherence(question, text)
        print("Coherence between question and text:", coherence_score)

        # Calculate coherence between question and answers
        answer_scores = calculate_answer_coherence(question, answers)
        print("Coherence between question and answers:")
        for i, score in enumerate(answer_scores):
            print("Answer", i+1, ":", score)

        print()

if __name__ == "__main__":
    main()
